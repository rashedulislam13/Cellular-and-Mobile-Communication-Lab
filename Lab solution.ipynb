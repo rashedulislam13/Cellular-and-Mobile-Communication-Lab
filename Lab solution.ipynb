{
 "cells": [
  {
   "cell_type": "markdown",
   "metadata": {},
   "source": [
    "Lab No 1: \n",
    " If a total of 33 MHz of bandwidth is allocated to a particular FDD cellular\n",
    "telephone system which uses two 25 kHz simplex channels to provide full duplex voice and\n",
    "control channels, compute the number of channels available per cell if a system uses-\n",
    "         (a) 4-cell reuse. (b) 7-cell reuse. (c) 12-cell reuse.\n",
    "If 1 MHz of the allocated spectrum is dedicated to control channels, determine an equitable\n",
    "distribution of control channels and voice channels in each cell for each of the three systems."
   ]
  },
  {
   "cell_type": "code",
   "execution_count": 2,
   "metadata": {},
   "outputs": [
    {
     "name": "stdout",
     "output_type": "stream",
     "text": [
      "For Cluster size N = 7\n",
      "-------------------------\n",
      "Total number of channels available per cell: 94 channels\n",
      "Voice Channels: 91 channels\n",
      "Control Channels: 3 channels\n",
      "\n",
      "\n"
     ]
    }
   ],
   "source": [
    "import numpy as np\n",
    "\n",
    "# Clear all variables and close all figures (not needed in Python)\n",
    "\n",
    "# User input for cluster sizes\n",
    "cluster_sizes = list(map(int, input(\"Enter Cluster Sizes with [ ] around Them (e.g., 4 7 12): \").split()))\n",
    "\n",
    "bw = 33000  # Total Bandwidth in kHz\n",
    "sim_ch_bw = 25  # Simplex channel bandwidth in kHz\n",
    "dup_ch_bw = 2 * sim_ch_bw  # Duplex channel bandwidth in kHz\n",
    "t_ch = bw / dup_ch_bw  # Total available channels\n",
    "cc_bw = 1000  # Control channel bandwidth\n",
    "t_cc = cc_bw / dup_ch_bw  # Number of available control channels\n",
    "\n",
    "# Loop over each cluster size\n",
    "for N in cluster_sizes:\n",
    "    # Calculate the desired results for each system use\n",
    "    ch_per_cell = round(t_ch / N)  # Channels available per cell\n",
    "    vc = round((t_ch - t_cc) / N)  # Voice channels\n",
    "    cc = ch_per_cell - vc  # Control channels\n",
    "\n",
    "    # Print the results\n",
    "    print(f\"For Cluster size N = {N}\")\n",
    "    print(\"-------------------------\")\n",
    "    print(f\"Total number of channels available per cell: {ch_per_cell} channels\")\n",
    "    print(f\"Voice Channels: {vc} channels\")\n",
    "    print(f\"Control Channels: {cc} channels\")\n",
    "    print(\"\\n\")\n"
   ]
  },
  {
   "cell_type": "code",
   "execution_count": 11,
   "metadata": {},
   "outputs": [
    {
     "name": "stdout",
     "output_type": "stream",
     "text": [
      "Enter Cluster Sizes with [ ] around Them (e.g., 4 7 12): 4\n",
      "Classter Size N= 12 \n",
      " Available total Channel :660.0 channels\n",
      " Available control Channel: 20 channels\n",
      " Total number of channel Channel per cell:  55 channels\n",
      " Available Voice Channel: 53 channels\n",
      " Available Control Channel: 2 channels\n"
     ]
    }
   ],
   "source": [
    "cluster_sizes = list(map(int, input(\"Enter Cluster Sizes with [ ] around Them (e.g., 4 7 12): \").split()))\n",
    "t_bw=33000\n",
    "c_bw=2*25\n",
    "A_channel = t_bw/c_bw\n",
    "\n",
    "dedicated_control_channel=1000\n",
    "A_control_channel= round(dedicated_control_channel/c_bw)\n",
    "\n",
    "#(a),(b),(c)\n",
    "\n",
    "t_c_per_cell = round( A_channel/n)\n",
    "\n",
    "voice_c= round((A_channel - A_control_channel)/n)\n",
    "\n",
    "control_c= round(t_c_per_cell-voice_c)\n",
    "\n",
    "print(f\"Classter Size N= {n } \")\n",
    "\n",
    "print(f\" Available total Channel :{A_channel } channels\")\n",
    "print(f\" Available control Channel: {A_control_channel } channels\")\n",
    "print(f\" Total number of channel Channel per cell:  {t_c_per_cell } channels\")\n",
    "print(f\" Available Voice Channel: {voice_c } channels\")\n",
    "print(f\" Available Control Channel: {control_c } channels\")\n",
    "\n"
   ]
  },
  {
   "cell_type": "markdown",
   "metadata": {},
   "source": [
    "Lab No 2: If a signal to interference ratio of 15 dB is required for satisfactory forward channel\n",
    "performance of a cellular system, what is the frequency reuse factor and cluster size that\n",
    "should be used for maximum capacity if the path loss exponent is (a) n= 4 , (b) n = 3?\n",
    "Assume that there are 6 co-channels cells in the first tier and all of them are at the same\n",
    "distance from the mobile. Use suitable approximations."
   ]
  },
  {
   "cell_type": "code",
   "execution_count": 12,
   "metadata": {},
   "outputs": [
    {
     "name": "stdout",
     "output_type": "stream",
     "text": [
      "Enter Path Loss exponent with [ ] around Them (e.g., 4 3): 3\n",
      "For Path Loss Exponent, n = 3\n",
      "---------------------------\n",
      "Signal-to-Noise interference Ratio S/I: 15.563 dB > 15 dB\n",
      "Hence, Cluster size N: 12\n",
      "Frequency Reuse Factor Q: 6.000\n",
      "\n",
      "\n"
     ]
    }
   ],
   "source": [
    "import numpy as np\n",
    "\n",
    "# User input for path loss exponent\n",
    "pl_exponent = list(map(int, input(\"Enter Path Loss exponent with [ ] around Them (e.g., 4 3): \").split()))\n",
    "\n",
    "r_si = 15  # Minimum Required S/I in dB\n",
    "i0 = 6     # The number of Co-channel interfering cells\n",
    "\n",
    "for n in pl_exponent:\n",
    "    N = 7  # Cluster size\n",
    "\n",
    "    # Calculate the results\n",
    "    Q = np.sqrt(3 * N)  # Frequency reuse factor\n",
    "    si = 10 * np.log10((Q**n) / i0)  # Signal to interference ratio in dB\n",
    "\n",
    "    # If the first condition is not satisfied\n",
    "    if si < r_si:\n",
    "        i = 2\n",
    "        j = 2\n",
    "        N = (i * i) + (i * j) + (j * j)\n",
    "        Q = np.sqrt(3 * N)\n",
    "        si = 10 * np.log10((Q**n) / i0)\n",
    "\n",
    "    # Print the results\n",
    "    print(f\"For Path Loss Exponent, n = {n}\")\n",
    "    print(\"---------------------------\")\n",
    "    print(f\"Signal-to-Noise interference Ratio S/I: {si:.3f} dB > {r_si} dB\")\n",
    "    print(f\"Hence, Cluster size N: {N}\")\n",
    "    print(f\"Frequency Reuse Factor Q: {Q:.3f}\\n\\n\")\n"
   ]
  },
  {
   "cell_type": "code",
   "execution_count": 13,
   "metadata": {},
   "outputs": [
    {
     "data": {
      "text/plain": [
       "16"
      ]
     },
     "execution_count": 13,
     "metadata": {},
     "output_type": "execute_result"
    }
   ],
   "source": []
  },
  {
   "cell_type": "markdown",
   "metadata": {},
   "source": [
    "Lab No 3: How many users can be supported for 0.5% blocking probability for the following\n",
    "number of trunked channels in a blocked calls cleared system? (a) 1, (b) 5, (c) 10, (d) 20,\n",
    "(e) 100. Assume each user generates 0.1 Erlangs of traffic."
   ]
  },
  {
   "cell_type": "code",
   "execution_count": 21,
   "metadata": {},
   "outputs": [
    {
     "name": "stdout",
     "output_type": "stream",
     "text": [
      "Enter the number of trunked channels (1, 5, 10, 20, or 100): 5\n",
      "Total number of users= 11\n"
     ]
    }
   ],
   "source": [
    "gos=0.005\n",
    "Au=0.1\n",
    "Channel_data= {\n",
    "    1: 0.005,\n",
    "    5: 1.13,\n",
    "    10: 3.96,\n",
    "    20: 11.1,\n",
    "    100: 80.9\n",
    "}\n",
    "\n",
    "\n",
    "input_data= int(input(\"Enter the number of trunked channels (1, 5, 10, 20, or 100): \"))\n",
    "\n",
    "if input_data in Channel_data:\n",
    "    A=Channel_data[input_data]    \n",
    "    N_of_user =max(1, int(round(A / Au))) \n",
    "    \n",
    "    print(f\"Total number of users= {N_of_user}\")\n",
    "    \n",
    "\n",
    "    \n"
   ]
  },
  {
   "cell_type": "code",
   "execution_count": 16,
   "metadata": {},
   "outputs": [
    {
     "name": "stdout",
     "output_type": "stream",
     "text": [
      "Grade of Service, GOS = 0.005\n",
      "Trunked Channels, C:\n",
      "[  1   5  10  20 100]\n",
      "From table 3.1, we obtain Offered Traffic Intensity, A for all Channels, C:\n",
      "[5.00e-03 1.13e+00 3.96e+00 1.11e+01 8.09e+01]\n",
      "Total number of users, U:\n",
      "---------------------------\n",
      "[  0  11  40 111 809]\n"
     ]
    }
   ],
   "source": [
    "import numpy as np\n",
    "\n",
    "# Given parameters\n",
    "GOS = 0.5 / 100  # Blocking probability (0.5%)\n",
    "Au = 0.1         # Traffic intensity per user (in Erlangs)\n",
    "\n",
    "# From Erlang B chart - Offered Traffic Intensity, A\n",
    "A = np.array([0.005, 1.13, 3.96, 11.1, 80.9])  # Offered traffic intensities for different channels\n",
    "\n",
    "# Trunked Channels\n",
    "C = np.array([1, 5, 10, 20, 100])  # Number of trunked channels\n",
    "\n",
    "# Total number of users calculation\n",
    "U = np.round(A / Au).astype(int)  # Total number of users (rounded to nearest integer)\n",
    "\n",
    "# Print the results\n",
    "print(f\"Grade of Service, GOS = {GOS:.3f}\")\n",
    "print(\"Trunked Channels, C:\")\n",
    "print(C)\n",
    "print(\"From table 3.1, we obtain Offered Traffic Intensity, A for all Channels, C:\")\n",
    "print(A)\n",
    "print(\"Total number of users, U:\")\n",
    "print(\"---------------------------\")\n",
    "print(U)\n"
   ]
  },
  {
   "cell_type": "code",
   "execution_count": 11,
   "metadata": {},
   "outputs": [
    {
     "name": "stdout",
     "output_type": "stream",
     "text": [
      "Enter the number of trunked channels (1, 5, 10, 20, or 100): 1\n",
      "Total number of users, U = 1\n"
     ]
    }
   ],
   "source": [
    "import numpy as np\n",
    "\n",
    "# Given parameters\n",
    "GOS = 0.5 / 100  # Blocking probability (0.5%)\n",
    "Au = 0.1         # Traffic intensity per user (in Erlangs)\n",
    "\n",
    "# From Erlang B chart - Offered Traffic Intensity, A for specific channels\n",
    "channel_data = {\n",
    "    1: 0.005,\n",
    "    5: 1.13,\n",
    "    10: 3.96,\n",
    "    20: 11.1,\n",
    "    100: 80.9\n",
    "}\n",
    "\n",
    "# User input for the number of trunked channels\n",
    "C_input = int(input(\"Enter the number of trunked channels (1, 5, 10, 20, or 100): \"))\n",
    "\n",
    "# Check if the input is valid\n",
    "if C_input in channel_data:\n",
    "    # Calculate total number of users for the given input, ensuring a minimum of 1\n",
    "    A = channel_data[C_input]\n",
    "    U = max(1, int(round(A / Au)))  # Ensures U is at least 1\n",
    "    \n",
    "    # Display results\n",
    "#     print(f\"\\nGrade of Service, GOS = {GOS:.3f}\")\n",
    "#     print(f\"Trunked Channels, C = {C_input}\")\n",
    "#     print(f\"Offered Traffic Intensity, A = {A}\")\n",
    "    print(f\"Total number of users, U = {U}\")\n",
    "else:\n",
    "    print(\"Invalid input! Please enter a valid number of trunked channels (1, 5, 10, 20, or 100).\")\n"
   ]
  },
  {
   "cell_type": "markdown",
   "metadata": {},
   "source": [
    "Lab No 4: An urban area has a population of 2 million residents. Three competing trunked mobile\n",
    "networks (systems A, B, and C) provide cellular service in this area. System A has 394\n",
    "cells with 19 channels each, system B has 98 cells with 57 channels each, and system C\n",
    "has 49 cells, each with 100 channels. Find the number of users that can be supported at\n",
    "2% blocking if each user averages 2 calls per hour at an average call duration of 3\n",
    "minutes. Assuming that all three trunked systems are operated at maximum capacity,\n",
    "compute the percentage market penetration of each cellular provider."
   ]
  },
  {
   "cell_type": "code",
   "execution_count": 8,
   "metadata": {},
   "outputs": [
    {
     "name": "stdout",
     "output_type": "stream",
     "text": [
      "For system A:\n",
      "--------------\n",
      "Total number of users for system A: 47280\n",
      "Percentage market penetration for System A: 2.364%\n",
      "\n",
      "\n",
      "For system B:\n",
      "--------------\n",
      "Total number of users for system B: 44100\n",
      "Percentage market penetration for System B: 2.205%\n",
      "\n",
      "\n",
      "For system C:\n",
      "--------------\n",
      "Total number of users for system C: 43120\n",
      "Percentage market penetration for System C: 2.156%\n",
      "\n",
      "\n",
      "For all three systems:\n",
      "--------------------\n",
      "Total number of users of all three systems: 134500\n",
      "Percentage market penetration for all three Systems: 6.725%\n"
     ]
    }
   ],
   "source": [
    "# Constants\n",
    "blocking_probability = 2 / 100  # GOS\n",
    "population = 2000000\n",
    "Au = (2 / 60) * 3  # Traffic intensity per user\n",
    "\n",
    "print('For system A:')\n",
    "print('--------------')\n",
    "C1 = 19  # Number of channels per cell\n",
    "A1 = 12  # Total traffic intensity from Erlang B chart, GOS=0.02, C=19\n",
    "U1 = A1 / Au  # Total number of users\n",
    "Aa = U1 * 394  # Total Number of Subscribers\n",
    "\n",
    "percentage_A = (Aa / population) * 100\n",
    "print(f'Total number of users for system A: {int(Aa)}')\n",
    "print(f'Percentage market penetration for System A: {percentage_A:.3f}%\\n')\n",
    "\n",
    "# System B\n",
    "print('\\nFor system B:')\n",
    "print('--------------')\n",
    "C2 = 57  # Number of channels per cell\n",
    "A2 = 45  # Total traffic intensity from Erlang B chart, GOS=0.02, C=57\n",
    "U2 = A2 / Au  # Total number of users\n",
    "Bb = U2 * 98  # Total Number of Subscribers\n",
    "percentage_B = (Bb / population) * 100\n",
    "print(f'Total number of users for system B: {int(Bb)}')\n",
    "print(f'Percentage market penetration for System B: {percentage_B:.3f}%\\n')\n",
    "\n",
    "# System C\n",
    "print('\\nFor system C:')\n",
    "print('--------------')\n",
    "C3 = 100  # Number of channels per cell\n",
    "A3 = 88   # Total traffic intensity from Erlang B chart, GOS=0.02, C=100\n",
    "U3 = A3 / Au  # Total number of users\n",
    "Cc = U3 * 49  # Total Number of Subscribers\n",
    "percentage_C = (Cc / population) * 100\n",
    "print(f'Total number of users for system C: {int(Cc)}')\n",
    "print(f'Percentage market penetration for System C: {percentage_C:.3f}%\\n')\n",
    "\n",
    "# Total for all systems\n",
    "print('\\nFor all three systems:')\n",
    "print('--------------------')\n",
    "T = Aa + Bb + Cc  # Total Subscribers\n",
    "percentage_T = (T / population) * 100\n",
    "print(f'Total number of users of all three systems: {int(T)}')\n",
    "print(f'Percentage market penetration for all three Systems: {percentage_T:.3f}%')\n"
   ]
  },
  {
   "cell_type": "markdown",
   "metadata": {},
   "source": [
    "Lab No 5: A certain city has an area of 1,300 square miles and is covered by a cellular system using\n",
    "a 7-cell reuse pattern. Each cell has a radius of 4 miles and the city is allocated 40 MHz\n",
    "of spectrum with a full duplex channel bandwidth of 60 kHz. Assume a GOS of 2% for\n",
    "an Erlang B system is specified. If the offered traffic per user is 0.03 Erlangs, compute\n",
    "(a) the number of cells in the service area, (b) the number of channels per cell, (c) traffic\n",
    "intensity of each cell, (d) the maximum carried traffic; (e) the total number of users that\n",
    "can be served for 2% GOS, (f') the number of mobiles per channel, and (g) the theoretical\n",
    "maximum number of users that could be served at one time by the system."
   ]
  },
  {
   "cell_type": "code",
   "execution_count": 29,
   "metadata": {},
   "outputs": [
    {
     "name": "stdout",
     "output_type": "stream",
     "text": [
      "(a) Total number of cells, Nc: 31 cells\n",
      "\n",
      "(b) The total number of channels per cell, C: 95 channels/cell\n",
      "\n",
      "(c) Traffic intensity per cell, A: 83 Erlangs/cell\n",
      "\n",
      "(d) Maximum carried traffic: 2573 Erlangs\n",
      "\n",
      "(e) Total number of users, U: 85767 users\n",
      "\n",
      "(f) Number of mobiles per channel: 128 mobiles/channel\n",
      "\n",
      "(g) Theoretical maximum number of users that could be served: 2945 users\n",
      "\n"
     ]
    }
   ],
   "source": [
    "import numpy as np\n",
    "from math import floor  # Importing the floor function from the math module\n",
    "\n",
    "\n",
    "\n",
    "# Question (a)\n",
    "total_city_coverage_area = 1300  # Total city coverage area in km^2\n",
    "radius = 4  # Radius in km\n",
    "a = (2.591 * radius**2)  # Area covered by each cell in km^2\n",
    "Nc = round(total_city_coverage_area / a)  # Total number of cells, Nc\n",
    "print(f'(a) Total number of cells, Nc: {Nc} cells\\n')\n",
    "\n",
    "# Question (b)\n",
    "allocated_spectrum = 40000  # Allocated spectrum in kHz (40 MHz)\n",
    "channel_width = 60  # Full duplex channel BW in kHz\n",
    "N = 7  # Frequency reuse factor\n",
    "C = round(allocated_spectrum / (channel_width * N))  # Total number of channels per cell\n",
    "print(f'(b) The total number of channels per cell, C: {C} channels/cell\\n')\n",
    "\n",
    "# Question (c)\n",
    "A = 83  # Traffic intensity per cell (C=95, GOS=0.02 from Erlang B chart)\n",
    "print(f'(c) Traffic intensity per cell, A: {A} Erlangs/cell\\n')\n",
    "\n",
    "# Question (d)\n",
    "max_c_t = floor(Nc * A)  # Maximum carried traffic\n",
    "print(f'(d) Maximum carried traffic: {max_c_t} Erlangs\\n')\n",
    "\n",
    "# Question (e)\n",
    "Au = 0.03  # Traffic per user\n",
    "U = round(max_c_t / Au)  # Total number of users\n",
    "print(f'(e) Total number of users, U: {U} users\\n')\n",
    "\n",
    "# Question (f)\n",
    "no_of_channel = floor(allocated_spectrum / channel_width)  # Total number of channels available\n",
    "no_of_m_p_c = floor(U / no_of_channel)  # Number of mobiles per channel\n",
    "print(f'(f) Number of mobiles per channel: {no_of_m_p_c} mobiles/channel\\n')\n",
    "\n",
    "# Question (g)\n",
    "g = C * Nc  # Theoretical maximum number of users that could be served\n",
    "print(f'(g) Theoretical maximum number of users that could be served: {g} users\\n')\n",
    "\n"
   ]
  },
  {
   "cell_type": "markdown",
   "metadata": {},
   "source": [
    "Lab No 6: If a transmitter produces 50 watts of power, express the transmit power in units of (a)\n",
    "dBm, and (b) dBW. If 50 watts is applied to a unity gain antenna with a 900 MHz carrier\n",
    "frequency, find the received power in dBm at a free space distance of 100 m from the\n",
    "antenna, what is P (10 km)? Assume unity gain for the receiver antenna."
   ]
  },
  {
   "cell_type": "code",
   "execution_count": 22,
   "metadata": {},
   "outputs": [
    {
     "name": "stdout",
     "output_type": "stream",
     "text": [
      "(a) Transmitter power, Pt in dBm: 47 dBm\n",
      "\n",
      "(b) Transmitter power, Pt in dBW: 17 dBW\n",
      "\n",
      "(c) Received power, Pr in dBm: -24.54 dBm\n",
      "\n",
      "(d) Received power, Pr at 10km in dBm: -64.54 dBm\n",
      "\n"
     ]
    }
   ],
   "source": [
    "import numpy as np\n",
    "\n",
    "\n",
    "# Given parameters\n",
    "pt = 50  # Transmitted power in Watts\n",
    "fc = 900  # Carrier frequency in MHz\n",
    "gt = 1  # Transmitter antenna gain\n",
    "gr = 1  # Receiver antenna gain\n",
    "d = 100  # Free space distance in meters\n",
    "L = 1  # Loss factor (assuming unity)\n",
    "c = 3 * 10**8  # Speed of light in m/s\n",
    "\n",
    "\n",
    "# Wavelength calculation\n",
    "lambda_ = c / (fc * 10**6)  # lambda = c/f\n",
    "\n",
    "# Question (a)\n",
    "tr_dBm = np.ceil(10 * np.log10(pt * 1000))  # Convert from Watts to dBm\n",
    "print(f'(a) Transmitter power, Pt in dBm: {int(tr_dBm)} dBm\\n')\n",
    "\n",
    "# Question (b)\n",
    "tr_dBW = np.ceil(10 * np.log10(pt))  # Convert from Watts to dBW\n",
    "print(f'(b) Transmitter power, Pt in dBW: {int(tr_dBW)} dBW\\n')\n",
    "\n",
    "# Question (c)\n",
    "# Received power calculation at d = 100 meters\n",
    "c_received = (pt * gt * gr * (lambda_ ** 2)) / ((4 * np.pi) ** 2 * d ** 2 * L) * 1000  # Received power in mW\n",
    "Pr = 10 * np.log10(c_received)  # Convert to dBm\n",
    "print(f'(c) Received power, Pr in dBm: {Pr:.2f} dBm\\n')\n",
    "\n",
    "# Question (d)\n",
    "# Received power calculation at d = 10,000 meters (10 km)\n",
    "d_10km = 10000  # Distance in meters\n",
    "Pr_at_10km = (pt * gt * gr * (lambda_ ** 2)) / ((4 * np.pi) ** 2 * d_10km ** 2 * L) * 1000  # Received power in mW at 10km\n",
    "Pr_at_10km_dBm = 10 * np.log10(Pr_at_10km)  # Convert to dBm\n",
    "print(f'(d) Received power, Pr at 10km in dBm: {Pr_at_10km_dBm:.2f} dBm\\n')\n"
   ]
  },
  {
   "cell_type": "markdown",
   "metadata": {},
   "source": [
    "Lab No 7: Determine the path loss of a 900MHz cellular system in a large city from a base station\n",
    "with the height of 100m and mobile station installed in a vehicle with antenna height of\n",
    "2m. The distance between mobile and base station is 4Km."
   ]
  },
  {
   "cell_type": "code",
   "execution_count": 47,
   "metadata": {},
   "outputs": [
    {
     "name": "stdout",
     "output_type": "stream",
     "text": [
      "The path loss in urban areas, Lp = 137.29 dB\n"
     ]
    }
   ],
   "source": [
    "import numpy as np\n",
    "\n",
    "# Given parameters\n",
    "hte = 100  # Effective transmitter (base station) antenna height in meters\n",
    "hre = 2    # Effective receiver (mobile) antenna height in meters\n",
    "fc = 900   # Frequency in MHz\n",
    "d = 4      # T-R separation distance in kilometers\n",
    "\n",
    "# Correction factor using the Okumura-Hata model\n",
    "a_hre = (3.2 * (np.log10(11.75 * hre)) ** 2) - 4.97\n",
    "\n",
    "# Path Loss in urban areas\n",
    "Lp = 69.55 + (26.16 * np.log10(fc)) - (13.82 * np.log10(hte)) - a_hre + ((44.9 - 6.55 * np.log10(hte)) * np.log10(d))\n",
    "\n",
    "# Output the path loss\n",
    "print(f'The path loss in urban areas, Lp = {Lp:.2f} dB')\n"
   ]
  },
  {
   "cell_type": "markdown",
   "metadata": {},
   "source": [
    "Lab No 8: Determine the path loss between base station (BS) and mobile station (MS) of\n",
    "a 1.8GHz PCS system operating in a high-rise urban area. The MS is located in a\n",
    "perpendicular street to the location of the BS. The distances of the BS and MS to the corner\n",
    "of the street are 20 and 30 meters, respectively. The base station height is 20m."
   ]
  },
  {
   "cell_type": "code",
   "execution_count": 17,
   "metadata": {},
   "outputs": [
    {
     "name": "stdout",
     "output_type": "stream",
     "text": [
      "The path loss in high-rise urban areas, Lp = 68.91 dB\n"
     ]
    }
   ],
   "source": [
    "import numpy as np\n",
    "\n",
    "# Given parameters\n",
    "fc = 1.8  # Frequency in GHz\n",
    "hb = 20   # Effective transmitter (base station) antenna height in meters\n",
    "d = (np.sqrt(20**2 + 30**2)) / 1000  # T-R separation distance in kilometers\n",
    "\n",
    "# Path Loss in high-rise urban areas\n",
    "Lp = 135.41 + (12.49 * np.log10(fc)) - (4.99 * np.log10(hb)) + ((46.84 - 2.34 * np.log10(hb)) * np.log10(d))\n",
    "\n",
    "# Output the path loss\n",
    "print(f'The path loss in high-rise urban areas, Lp = {Lp:.2f} dB')\n",
    "\n",
    "\n"
   ]
  },
  {
   "cell_type": "markdown",
   "metadata": {},
   "source": [
    "Lab No 9: A mobile is located 5 km away from a base station and uses a vertical λ /4 monopole\n",
    "antenna with a gain of 2.55 dB to receive cellular 3 radio signals. The E-field at 1 km\n",
    "from the transmitter is measured to be V/rn. The carrier frequency used for this system is\n",
    "900 MHz.\n",
    "(a) Find the length and the gain of the receiving antenna.\n",
    "(b) Find the received power at the mobile using the 2-ray ground reflection model\n",
    "assuming the height of the transmitting antenna is 50 m and the receiving antenna is 1.5m\n",
    "above ground."
   ]
  },
  {
   "cell_type": "code",
   "execution_count": 18,
   "metadata": {},
   "outputs": [
    {
     "name": "stdout",
     "output_type": "stream",
     "text": [
      "For (a)\n",
      "---------\n",
      "Length of the antenna: 0.083 m\n",
      "Gain of the antenna: 1.8 = 2.55 dB\n",
      "\n",
      "For (b)\n",
      "---------\n",
      "Electric Field, Er(d): 0.000113097 V/m\n",
      "Effective Aperture, Ae: 0.016 m^2\n",
      "Received power at 5 km distance Er(5 km): -122.679 dBW\n"
     ]
    }
   ],
   "source": [
    "import numpy as np\n",
    "\n",
    "# Given parameters\n",
    "f = 900  # Frequency in MHz\n",
    "g = 2.55  # Gain of antenna in dB\n",
    "\n",
    "# Question (a)\n",
    "gain = 10 ** (g / 10)  # Linear gain\n",
    "lemda = (3 * 10**8) / (f * 10**6)  # Wavelength in meters\n",
    "L = lemda / 4  # Antenna Length\n",
    "\n",
    "print('For (a)')\n",
    "print('---------')\n",
    "print(f'Length of the antenna: {L:.3f} m')\n",
    "print(f'Gain of the antenna: {gain:.1f} = {g:.2f} dB\\n')\n",
    "\n",
    "# Question (b)\n",
    "print('For (b)')\n",
    "print('---------')\n",
    "d = 5000  # T-R separation distance in meters\n",
    "E0 = 10**-3  # Electric-field in V/m\n",
    "d0 = 1000  # Transmitter distance in meters\n",
    "ht = 50  # Transmitting antenna height in meters\n",
    "hr = 1.5  # Receiving antenna height in meters\n",
    "\n",
    "# Electric Field\n",
    "Er_d = (2 * E0 * d0 * 2 * np.pi * ht * hr) / (lemda * d**2)  # Electric Field\n",
    "Ae = (gain * lemda**2) / (4 * np.pi)  # Effective Aperture\n",
    "Pr_d = (Er_d**2 / (120 * np.pi)) * Ae  # Received power at a distance d\n",
    "Pr_dB = 10 * np.log10(Pr_d)  # Received power in dBW\n",
    "\n",
    "# Output results\n",
    "print(f'Electric Field, Er(d): {Er_d:.9f} V/m')\n",
    "print(f'Effective Aperture, Ae: {Ae:.3f} m^2')\n",
    "print(f'Received power at 5 km distance Er(5 km): {Pr_dB:.3f} dBW')\n"
   ]
  },
  {
   "cell_type": "markdown",
   "metadata": {},
   "source": [
    "Lab No 10: A hexagonal cell within a 4-cell system has a radius of 1.387 km. A total of 60 channels\n",
    "are used within the entire system. If the load per user is 0.029 Erlangs, and λ= call/hour,\n",
    "compute the following for an Erlang C system that has a 5% probability of a delayed call:\n",
    "(a) How many users per square kilometer will this system support?\n",
    "(b) What is the probability that a delayed call will have to wait for more than 10s?\n",
    "(c) What is the probability that a call will be delayed for more than 10 seconds?"
   ]
  },
  {
   "cell_type": "code",
   "execution_count": 20,
   "metadata": {},
   "outputs": [
    {
     "name": "stdout",
     "output_type": "stream",
     "text": [
      "(a) Number of users per square km: 62 users/sq km\n",
      "\n",
      "(b) The probability that a delayed call will have to wait: 56.29%\n",
      "\n",
      "(c) The probability that a call will be delayed: 2.81%\n",
      "\n"
     ]
    }
   ],
   "source": [
    "import numpy as np\n",
    "\n",
    "# Given parameters\n",
    "R = 1.387  # Cell Radius\n",
    "n = 4  # Number of cells\n",
    "N = 60  # Total number of channels\n",
    "area = round(2.5981 * R**2)  # Area covered per cell\n",
    "C = N / 4  # Number of channels per cell\n",
    "A = 9  # Traffic intensity at c=15, GOS=0.05, Au=0.029 from Erlang C chart\n",
    "\n",
    "# Question (a)\n",
    "Au = 0.029  # Traffic per user\n",
    "U = np.floor(A / Au)  # Number of users\n",
    "U_per = round(U / area)  # Number of users per square km\n",
    "print(f'(a) Number of users per square km: {U_per} users/sq km\\n')\n",
    "\n",
    "# Question (b)\n",
    "lemda = 1  # lambda = 1 hour\n",
    "H = (Au / lemda) * 3600  # Holding Time hour to second\n",
    "Prb = np.exp(-((C - A) * 10) / H)  # t=10s, C=15, A=9, H\n",
    "print(f'(b) The probability that a delayed call will have to wait: {Prb * 100:.2f}%\\n')\n",
    "\n",
    "# Question (c)\n",
    "Prc = 0.05 * Prb * 100  # 5% probability of delayed call\n",
    "print(f'(c) The probability that a call will be delayed: {Prc:.2f}%\\n')\n"
   ]
  }
 ],
 "metadata": {
  "kernelspec": {
   "display_name": "Python 3 (ipykernel)",
   "language": "python",
   "name": "python3"
  },
  "language_info": {
   "codemirror_mode": {
    "name": "ipython",
    "version": 3
   },
   "file_extension": ".py",
   "mimetype": "text/x-python",
   "name": "python",
   "nbconvert_exporter": "python",
   "pygments_lexer": "ipython3",
   "version": "3.9.13"
  }
 },
 "nbformat": 4,
 "nbformat_minor": 2
}
